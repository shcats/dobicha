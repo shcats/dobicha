{
 "cells": [
  {
   "cell_type": "code",
   "execution_count": 19,
   "metadata": {},
   "outputs": [],
   "source": [
    "import numpy as np\n",
    "import pandas as pd"
   ]
  },
  {
   "cell_type": "code",
   "execution_count": 20,
   "metadata": {},
   "outputs": [
    {
     "data": {
      "text/html": [
       "<div>\n",
       "<style scoped>\n",
       "    .dataframe tbody tr th:only-of-type {\n",
       "        vertical-align: middle;\n",
       "    }\n",
       "\n",
       "    .dataframe tbody tr th {\n",
       "        vertical-align: top;\n",
       "    }\n",
       "\n",
       "    .dataframe thead th {\n",
       "        text-align: right;\n",
       "    }\n",
       "</style>\n",
       "<table border=\"1\" class=\"dataframe\">\n",
       "  <thead>\n",
       "    <tr style=\"text-align: right;\">\n",
       "      <th></th>\n",
       "      <th>Well</th>\n",
       "      <th>X</th>\n",
       "      <th>Y</th>\n",
       "    </tr>\n",
       "  </thead>\n",
       "  <tbody>\n",
       "    <tr>\n",
       "      <th>0</th>\n",
       "      <td>Az_001_V1</td>\n",
       "      <td>616928.21</td>\n",
       "      <td>6430450.45</td>\n",
       "    </tr>\n",
       "    <tr>\n",
       "      <th>1</th>\n",
       "      <td>Az_003_P1</td>\n",
       "      <td>617900.55</td>\n",
       "      <td>6432211.52</td>\n",
       "    </tr>\n",
       "    <tr>\n",
       "      <th>2</th>\n",
       "      <td>Az_002_V1</td>\n",
       "      <td>609291.53</td>\n",
       "      <td>6433179.62</td>\n",
       "    </tr>\n",
       "    <tr>\n",
       "      <th>3</th>\n",
       "      <td>Az_017_V1</td>\n",
       "      <td>606402.01</td>\n",
       "      <td>6443324.56</td>\n",
       "    </tr>\n",
       "    <tr>\n",
       "      <th>4</th>\n",
       "      <td>Az_007_V1</td>\n",
       "      <td>612531.76</td>\n",
       "      <td>6436362.62</td>\n",
       "    </tr>\n",
       "    <tr>\n",
       "      <th>...</th>\n",
       "      <td>...</td>\n",
       "      <td>...</td>\n",
       "      <td>...</td>\n",
       "    </tr>\n",
       "    <tr>\n",
       "      <th>1038</th>\n",
       "      <td>Az_794_H1</td>\n",
       "      <td>611579.79</td>\n",
       "      <td>6433714.57</td>\n",
       "    </tr>\n",
       "    <tr>\n",
       "      <th>1039</th>\n",
       "      <td>AZ_423_H1</td>\n",
       "      <td>608241.59</td>\n",
       "      <td>6435829.54</td>\n",
       "    </tr>\n",
       "    <tr>\n",
       "      <th>1040</th>\n",
       "      <td>Ay_077_V1</td>\n",
       "      <td>627437.99</td>\n",
       "      <td>6430998.79</td>\n",
       "    </tr>\n",
       "    <tr>\n",
       "      <th>1041</th>\n",
       "      <td>Ay_072_V1</td>\n",
       "      <td>615272.52</td>\n",
       "      <td>6451415.53</td>\n",
       "    </tr>\n",
       "    <tr>\n",
       "      <th>1042</th>\n",
       "      <td>Za_201_P1</td>\n",
       "      <td>630524.91</td>\n",
       "      <td>6441918.69</td>\n",
       "    </tr>\n",
       "  </tbody>\n",
       "</table>\n",
       "<p>1043 rows × 3 columns</p>\n",
       "</div>"
      ],
      "text/plain": [
       "           Well          X           Y\n",
       "0     Az_001_V1  616928.21  6430450.45\n",
       "1     Az_003_P1  617900.55  6432211.52\n",
       "2     Az_002_V1  609291.53  6433179.62\n",
       "3     Az_017_V1  606402.01  6443324.56\n",
       "4     Az_007_V1  612531.76  6436362.62\n",
       "...         ...        ...         ...\n",
       "1038  Az_794_H1  611579.79  6433714.57\n",
       "1039  AZ_423_H1  608241.59  6435829.54\n",
       "1040  Ay_077_V1  627437.99  6430998.79\n",
       "1041  Ay_072_V1  615272.52  6451415.53\n",
       "1042  Za_201_P1  630524.91  6441918.69\n",
       "\n",
       "[1043 rows x 3 columns]"
      ]
     },
     "execution_count": 20,
     "metadata": {},
     "output_type": "execute_result"
    }
   ],
   "source": [
    "coor = pd.read_excel(\"yar_wells_itog.xlsx\")\n",
    "coor"
   ]
  },
  {
   "cell_type": "code",
   "execution_count": 21,
   "metadata": {},
   "outputs": [],
   "source": [
    "lst = list(coor[\"Well\"].apply(lambda x:x.split(\"_\")))\n",
    "well = pd.DataFrame(lst, columns=[\"Field\", \"Number\", \"Type\"])\n",
    "well[\"Type\"] = well[\"Type\"].apply(lambda x:int(x[1]))"
   ]
  },
  {
   "cell_type": "code",
   "execution_count": 22,
   "metadata": {},
   "outputs": [],
   "source": [
    "well[[\"X\", \"Y\"]] = coor[[\"X\", \"Y\"]]"
   ]
  },
  {
   "cell_type": "code",
   "execution_count": 23,
   "metadata": {},
   "outputs": [
    {
     "name": "stdout",
     "output_type": "stream",
     "text": [
      "<class 'pandas.core.frame.DataFrame'>\n",
      "RangeIndex: 1043 entries, 0 to 1042\n",
      "Data columns (total 5 columns):\n",
      " #   Column  Non-Null Count  Dtype  \n",
      "---  ------  --------------  -----  \n",
      " 0   Field   1043 non-null   object \n",
      " 1   Number  1043 non-null   object \n",
      " 2   Type    1043 non-null   int64  \n",
      " 3   X       1043 non-null   float64\n",
      " 4   Y       1043 non-null   float64\n",
      "dtypes: float64(2), int64(1), object(2)\n",
      "memory usage: 40.9+ KB\n"
     ]
    }
   ],
   "source": [
    "well.info()"
   ]
  },
  {
   "cell_type": "code",
   "execution_count": 24,
   "metadata": {},
   "outputs": [],
   "source": [
    "well = well[[\"Field\",\"Number\",\"Type\", \"X\", \"Y\"]].groupby([\"Field\", \"Number\"]).max()\n",
    "well.to_excel(\"yar_dob.xlsx\")\n"
   ]
  }
 ],
 "metadata": {
  "kernelspec": {
   "display_name": "dobicha-RO9a5v_W-py3.10",
   "language": "python",
   "name": "python3"
  },
  "language_info": {
   "codemirror_mode": {
    "name": "ipython",
    "version": 3
   },
   "file_extension": ".py",
   "mimetype": "text/x-python",
   "name": "python",
   "nbconvert_exporter": "python",
   "pygments_lexer": "ipython3",
   "version": "3.10.6"
  },
  "orig_nbformat": 4
 },
 "nbformat": 4,
 "nbformat_minor": 2
}
